{
  "nbformat": 4,
  "nbformat_minor": 0,
  "metadata": {
    "colab": {
      "provenance": [],
      "include_colab_link": true
    },
    "kernelspec": {
      "name": "python3",
      "display_name": "Python 3"
    },
    "language_info": {
      "name": "python"
    }
  },
  "cells": [
    {
      "cell_type": "markdown",
      "metadata": {
        "id": "view-in-github",
        "colab_type": "text"
      },
      "source": [
        "<a href=\"https://colab.research.google.com/github/lucvseco/algoritmo-supervisionado/blob/main/diabetes.ipynb\" target=\"_parent\"><img src=\"https://colab.research.google.com/assets/colab-badge.svg\" alt=\"Open In Colab\"/></a>"
      ]
    },
    {
      "cell_type": "markdown",
      "source": [
        "#**CONTEXTO:**\n",
        "Iremos analisar as informações de pacientes para prever se um paciente tem ou não chances de desenvolver diabetes. Analisaremos três modelos (Naive Bayes, Random Forest e KNN) para decidir qual o mais eficiente."
      ],
      "metadata": {
        "id": "53NBXIaPR2Y5"
      }
    },
    {
      "cell_type": "markdown",
      "source": [
        "# **Importação de bibliotecas**"
      ],
      "metadata": {
        "id": "0jbBsuQzlV2j"
      }
    },
    {
      "cell_type": "code",
      "execution_count": null,
      "metadata": {
        "id": "4NVGYLj5jljA"
      },
      "outputs": [],
      "source": [
        "import pandas as pd\n",
        "import numpy as np\n",
        "\n",
        "import matplotlib.pyplot as plt\n",
        "from matplotlib.colors import ListedColormap\n",
        "\n",
        "from sklearn.metrics import accuracy_score\n",
        "from sklearn.metrics import precision_score\n",
        "from sklearn.model_selection import train_test_split\n",
        "\n",
        "from sklearn.tree import DecisionTreeClassifier\n",
        "from sklearn.svm import SVC\n",
        "from sklearn.neighbors import KNeighborsClassifier\n",
        "from sklearn.naive_bayes import GaussianNB\n",
        "from sklearn.ensemble import RandomForestClassifier"
      ]
    },
    {
      "cell_type": "markdown",
      "source": [
        "# **Importação de Dados**"
      ],
      "metadata": {
        "id": "4N5UCeyJmRUM"
      }
    },
    {
      "cell_type": "code",
      "source": [
        "base_saude = pd.read_csv('/content/diabetes (1).csv', sep=';')\n",
        "base_saude.head(10)"
      ],
      "metadata": {
        "id": "bIy5rJvXmYZ3",
        "colab": {
          "base_uri": "https://localhost:8080/",
          "height": 363
        },
        "outputId": "cb457bcb-ec4c-4da2-8db0-7af35460e75e"
      },
      "execution_count": null,
      "outputs": [
        {
          "output_type": "execute_result",
          "data": {
            "text/plain": [
              "   sexo  idade  hipertenso  doencaCardio  historicoFumante    imc  \\\n",
              "0     0   80.0           0             1                 0  25.19   \n",
              "1     0   54.0           0             0                 3  27.32   \n",
              "2     1   28.0           0             0                 0  27.32   \n",
              "3     0   36.0           0             0                 1  23.45   \n",
              "4     1   76.0           1             1                 1  20.14   \n",
              "5     0   20.0           0             0                 0  27.32   \n",
              "6     0   44.0           0             0                 0  19.31   \n",
              "7     0   79.0           0             0                 3  23.86   \n",
              "8     1   42.0           0             0                 0  33.64   \n",
              "9     0   32.0           0             0                 0  27.32   \n",
              "\n",
              "   nivelAcucar  glicose  diabetes  \n",
              "0          6.6      140         0  \n",
              "1          6.6       80         0  \n",
              "2          5.7      158         0  \n",
              "3          5.0      155         0  \n",
              "4          4.8      155         0  \n",
              "5          6.6       85         0  \n",
              "6          6.5      200         1  \n",
              "7          5.7       85         0  \n",
              "8          4.8      145         0  \n",
              "9          5.0      100         0  "
            ],
            "text/html": [
              "\n",
              "  <div id=\"df-cc1e4828-1c7b-47b8-9421-ce6b0562f351\" class=\"colab-df-container\">\n",
              "    <div>\n",
              "<style scoped>\n",
              "    .dataframe tbody tr th:only-of-type {\n",
              "        vertical-align: middle;\n",
              "    }\n",
              "\n",
              "    .dataframe tbody tr th {\n",
              "        vertical-align: top;\n",
              "    }\n",
              "\n",
              "    .dataframe thead th {\n",
              "        text-align: right;\n",
              "    }\n",
              "</style>\n",
              "<table border=\"1\" class=\"dataframe\">\n",
              "  <thead>\n",
              "    <tr style=\"text-align: right;\">\n",
              "      <th></th>\n",
              "      <th>sexo</th>\n",
              "      <th>idade</th>\n",
              "      <th>hipertenso</th>\n",
              "      <th>doencaCardio</th>\n",
              "      <th>historicoFumante</th>\n",
              "      <th>imc</th>\n",
              "      <th>nivelAcucar</th>\n",
              "      <th>glicose</th>\n",
              "      <th>diabetes</th>\n",
              "    </tr>\n",
              "  </thead>\n",
              "  <tbody>\n",
              "    <tr>\n",
              "      <th>0</th>\n",
              "      <td>0</td>\n",
              "      <td>80.0</td>\n",
              "      <td>0</td>\n",
              "      <td>1</td>\n",
              "      <td>0</td>\n",
              "      <td>25.19</td>\n",
              "      <td>6.6</td>\n",
              "      <td>140</td>\n",
              "      <td>0</td>\n",
              "    </tr>\n",
              "    <tr>\n",
              "      <th>1</th>\n",
              "      <td>0</td>\n",
              "      <td>54.0</td>\n",
              "      <td>0</td>\n",
              "      <td>0</td>\n",
              "      <td>3</td>\n",
              "      <td>27.32</td>\n",
              "      <td>6.6</td>\n",
              "      <td>80</td>\n",
              "      <td>0</td>\n",
              "    </tr>\n",
              "    <tr>\n",
              "      <th>2</th>\n",
              "      <td>1</td>\n",
              "      <td>28.0</td>\n",
              "      <td>0</td>\n",
              "      <td>0</td>\n",
              "      <td>0</td>\n",
              "      <td>27.32</td>\n",
              "      <td>5.7</td>\n",
              "      <td>158</td>\n",
              "      <td>0</td>\n",
              "    </tr>\n",
              "    <tr>\n",
              "      <th>3</th>\n",
              "      <td>0</td>\n",
              "      <td>36.0</td>\n",
              "      <td>0</td>\n",
              "      <td>0</td>\n",
              "      <td>1</td>\n",
              "      <td>23.45</td>\n",
              "      <td>5.0</td>\n",
              "      <td>155</td>\n",
              "      <td>0</td>\n",
              "    </tr>\n",
              "    <tr>\n",
              "      <th>4</th>\n",
              "      <td>1</td>\n",
              "      <td>76.0</td>\n",
              "      <td>1</td>\n",
              "      <td>1</td>\n",
              "      <td>1</td>\n",
              "      <td>20.14</td>\n",
              "      <td>4.8</td>\n",
              "      <td>155</td>\n",
              "      <td>0</td>\n",
              "    </tr>\n",
              "    <tr>\n",
              "      <th>5</th>\n",
              "      <td>0</td>\n",
              "      <td>20.0</td>\n",
              "      <td>0</td>\n",
              "      <td>0</td>\n",
              "      <td>0</td>\n",
              "      <td>27.32</td>\n",
              "      <td>6.6</td>\n",
              "      <td>85</td>\n",
              "      <td>0</td>\n",
              "    </tr>\n",
              "    <tr>\n",
              "      <th>6</th>\n",
              "      <td>0</td>\n",
              "      <td>44.0</td>\n",
              "      <td>0</td>\n",
              "      <td>0</td>\n",
              "      <td>0</td>\n",
              "      <td>19.31</td>\n",
              "      <td>6.5</td>\n",
              "      <td>200</td>\n",
              "      <td>1</td>\n",
              "    </tr>\n",
              "    <tr>\n",
              "      <th>7</th>\n",
              "      <td>0</td>\n",
              "      <td>79.0</td>\n",
              "      <td>0</td>\n",
              "      <td>0</td>\n",
              "      <td>3</td>\n",
              "      <td>23.86</td>\n",
              "      <td>5.7</td>\n",
              "      <td>85</td>\n",
              "      <td>0</td>\n",
              "    </tr>\n",
              "    <tr>\n",
              "      <th>8</th>\n",
              "      <td>1</td>\n",
              "      <td>42.0</td>\n",
              "      <td>0</td>\n",
              "      <td>0</td>\n",
              "      <td>0</td>\n",
              "      <td>33.64</td>\n",
              "      <td>4.8</td>\n",
              "      <td>145</td>\n",
              "      <td>0</td>\n",
              "    </tr>\n",
              "    <tr>\n",
              "      <th>9</th>\n",
              "      <td>0</td>\n",
              "      <td>32.0</td>\n",
              "      <td>0</td>\n",
              "      <td>0</td>\n",
              "      <td>0</td>\n",
              "      <td>27.32</td>\n",
              "      <td>5.0</td>\n",
              "      <td>100</td>\n",
              "      <td>0</td>\n",
              "    </tr>\n",
              "  </tbody>\n",
              "</table>\n",
              "</div>\n",
              "    <div class=\"colab-df-buttons\">\n",
              "\n",
              "  <div class=\"colab-df-container\">\n",
              "    <button class=\"colab-df-convert\" onclick=\"convertToInteractive('df-cc1e4828-1c7b-47b8-9421-ce6b0562f351')\"\n",
              "            title=\"Convert this dataframe to an interactive table.\"\n",
              "            style=\"display:none;\">\n",
              "\n",
              "  <svg xmlns=\"http://www.w3.org/2000/svg\" height=\"24px\" viewBox=\"0 -960 960 960\">\n",
              "    <path d=\"M120-120v-720h720v720H120Zm60-500h600v-160H180v160Zm220 220h160v-160H400v160Zm0 220h160v-160H400v160ZM180-400h160v-160H180v160Zm440 0h160v-160H620v160ZM180-180h160v-160H180v160Zm440 0h160v-160H620v160Z\"/>\n",
              "  </svg>\n",
              "    </button>\n",
              "\n",
              "  <style>\n",
              "    .colab-df-container {\n",
              "      display:flex;\n",
              "      gap: 12px;\n",
              "    }\n",
              "\n",
              "    .colab-df-convert {\n",
              "      background-color: #E8F0FE;\n",
              "      border: none;\n",
              "      border-radius: 50%;\n",
              "      cursor: pointer;\n",
              "      display: none;\n",
              "      fill: #1967D2;\n",
              "      height: 32px;\n",
              "      padding: 0 0 0 0;\n",
              "      width: 32px;\n",
              "    }\n",
              "\n",
              "    .colab-df-convert:hover {\n",
              "      background-color: #E2EBFA;\n",
              "      box-shadow: 0px 1px 2px rgba(60, 64, 67, 0.3), 0px 1px 3px 1px rgba(60, 64, 67, 0.15);\n",
              "      fill: #174EA6;\n",
              "    }\n",
              "\n",
              "    .colab-df-buttons div {\n",
              "      margin-bottom: 4px;\n",
              "    }\n",
              "\n",
              "    [theme=dark] .colab-df-convert {\n",
              "      background-color: #3B4455;\n",
              "      fill: #D2E3FC;\n",
              "    }\n",
              "\n",
              "    [theme=dark] .colab-df-convert:hover {\n",
              "      background-color: #434B5C;\n",
              "      box-shadow: 0px 1px 3px 1px rgba(0, 0, 0, 0.15);\n",
              "      filter: drop-shadow(0px 1px 2px rgba(0, 0, 0, 0.3));\n",
              "      fill: #FFFFFF;\n",
              "    }\n",
              "  </style>\n",
              "\n",
              "    <script>\n",
              "      const buttonEl =\n",
              "        document.querySelector('#df-cc1e4828-1c7b-47b8-9421-ce6b0562f351 button.colab-df-convert');\n",
              "      buttonEl.style.display =\n",
              "        google.colab.kernel.accessAllowed ? 'block' : 'none';\n",
              "\n",
              "      async function convertToInteractive(key) {\n",
              "        const element = document.querySelector('#df-cc1e4828-1c7b-47b8-9421-ce6b0562f351');\n",
              "        const dataTable =\n",
              "          await google.colab.kernel.invokeFunction('convertToInteractive',\n",
              "                                                    [key], {});\n",
              "        if (!dataTable) return;\n",
              "\n",
              "        const docLinkHtml = 'Like what you see? Visit the ' +\n",
              "          '<a target=\"_blank\" href=https://colab.research.google.com/notebooks/data_table.ipynb>data table notebook</a>'\n",
              "          + ' to learn more about interactive tables.';\n",
              "        element.innerHTML = '';\n",
              "        dataTable['output_type'] = 'display_data';\n",
              "        await google.colab.output.renderOutput(dataTable, element);\n",
              "        const docLink = document.createElement('div');\n",
              "        docLink.innerHTML = docLinkHtml;\n",
              "        element.appendChild(docLink);\n",
              "      }\n",
              "    </script>\n",
              "  </div>\n",
              "\n",
              "\n",
              "<div id=\"df-ff805d09-89f9-4128-b31a-54e4d6913e51\">\n",
              "  <button class=\"colab-df-quickchart\" onclick=\"quickchart('df-ff805d09-89f9-4128-b31a-54e4d6913e51')\"\n",
              "            title=\"Suggest charts.\"\n",
              "            style=\"display:none;\">\n",
              "\n",
              "<svg xmlns=\"http://www.w3.org/2000/svg\" height=\"24px\"viewBox=\"0 0 24 24\"\n",
              "     width=\"24px\">\n",
              "    <g>\n",
              "        <path d=\"M19 3H5c-1.1 0-2 .9-2 2v14c0 1.1.9 2 2 2h14c1.1 0 2-.9 2-2V5c0-1.1-.9-2-2-2zM9 17H7v-7h2v7zm4 0h-2V7h2v10zm4 0h-2v-4h2v4z\"/>\n",
              "    </g>\n",
              "</svg>\n",
              "  </button>\n",
              "\n",
              "<style>\n",
              "  .colab-df-quickchart {\n",
              "    background-color: #E8F0FE;\n",
              "    border: none;\n",
              "    border-radius: 50%;\n",
              "    cursor: pointer;\n",
              "    display: none;\n",
              "    fill: #1967D2;\n",
              "    height: 32px;\n",
              "    padding: 0 0 0 0;\n",
              "    width: 32px;\n",
              "  }\n",
              "\n",
              "  .colab-df-quickchart:hover {\n",
              "    background-color: #E2EBFA;\n",
              "    box-shadow: 0px 1px 2px rgba(60, 64, 67, 0.3), 0px 1px 3px 1px rgba(60, 64, 67, 0.15);\n",
              "    fill: #174EA6;\n",
              "  }\n",
              "\n",
              "  [theme=dark] .colab-df-quickchart {\n",
              "    background-color: #3B4455;\n",
              "    fill: #D2E3FC;\n",
              "  }\n",
              "\n",
              "  [theme=dark] .colab-df-quickchart:hover {\n",
              "    background-color: #434B5C;\n",
              "    box-shadow: 0px 1px 3px 1px rgba(0, 0, 0, 0.15);\n",
              "    filter: drop-shadow(0px 1px 2px rgba(0, 0, 0, 0.3));\n",
              "    fill: #FFFFFF;\n",
              "  }\n",
              "</style>\n",
              "\n",
              "  <script>\n",
              "    async function quickchart(key) {\n",
              "      const charts = await google.colab.kernel.invokeFunction(\n",
              "          'suggestCharts', [key], {});\n",
              "    }\n",
              "    (() => {\n",
              "      let quickchartButtonEl =\n",
              "        document.querySelector('#df-ff805d09-89f9-4128-b31a-54e4d6913e51 button');\n",
              "      quickchartButtonEl.style.display =\n",
              "        google.colab.kernel.accessAllowed ? 'block' : 'none';\n",
              "    })();\n",
              "  </script>\n",
              "</div>\n",
              "    </div>\n",
              "  </div>\n"
            ]
          },
          "metadata": {},
          "execution_count": 2
        }
      ]
    },
    {
      "cell_type": "markdown",
      "source": [
        "# **Seção 1: Caracterização dos Dados**\n"
      ],
      "metadata": {
        "id": "Ws9wxfXTnX31"
      }
    },
    {
      "cell_type": "code",
      "source": [
        "# Distribuição da variável resposta\n",
        "num_categorias = base_saude['diabetes'].value_counts()\n",
        "print(num_categorias)"
      ],
      "metadata": {
        "id": "-ZC7kc0gnnU6",
        "colab": {
          "base_uri": "https://localhost:8080/"
        },
        "outputId": "05631e17-6daf-4122-dbef-c21ee46fbd7d"
      },
      "execution_count": null,
      "outputs": [
        {
          "output_type": "stream",
          "name": "stdout",
          "text": [
            "0    91500\n",
            "1     8500\n",
            "Name: diabetes, dtype: int64\n"
          ]
        }
      ]
    },
    {
      "cell_type": "code",
      "source": [
        "# Relação entre idade e IMC pela variável resposta\n",
        "colors = ListedColormap(['orange', 'green'])\n",
        "scatter = plt.scatter(y = base_saude['imc'], x = base_saude['idade'], c= base_saude['diabetes'] ,  cmap=colors)\n",
        "plt.title(\"Relação entre idade e IMC de pacientes\")\n",
        "plt.ylabel(\"IMC\")\n",
        "plt.xlabel(\"Idade\")\n",
        "plt.legend(*scatter.legend_elements())\n",
        "plt.show()"
      ],
      "metadata": {
        "id": "WmZnKEVToVyK",
        "colab": {
          "base_uri": "https://localhost:8080/",
          "height": 472
        },
        "outputId": "89c9c700-0442-4177-800b-76043a50e573"
      },
      "execution_count": null,
      "outputs": [
        {
          "output_type": "display_data",
          "data": {
            "text/plain": [
              "<Figure size 640x480 with 1 Axes>"
            ],
            "image/png": "[encoded data removed]"
          },
          "metadata": {}
        }
      ]
    },
    {
      "cell_type": "markdown",
      "source": [
        "O conjunto de dados é uma coleção de dados médicos juntamente com seu status de diabetes (positivo ou negativo). Os dados incluem características como idade, sexo, índice de massa corporal (IMC), hipertensão, doenças cardíacas, histórico de tabagismo e nível de açúcar no sangue. Esse conjunto de dados pode ser usado para criar modelos de aprendizado de máquina para prever diabetes em pacientes com base em seu histórico médico. Isso pode ser útil para os profissionais de saúde na identificação de pacientes que podem estar em risco de desenvolver zdiabetes e no desenvolvimento de planos de tratamento personalizados.\n",
        "\n",
        "O objetivo agora é avaliar a performance de modelos  de classificação considerando alguns  pontos:\n",
        "\n",
        "**Foi determinado que as características (X) que estão altamente relacionadas ao problema, são:**\n",
        "1. idade\n",
        "2. existência de hipertensão\n",
        "3. existência de doença cardiaca\n",
        "4. ser fumante\n",
        "5. IMC\n",
        "6. glicose no sangue"
      ],
      "metadata": {
        "id": "6d3GLyK14SKa"
      }
    },
    {
      "cell_type": "code",
      "source": [
        "X = base_saude[['idade','hipertenso','doencaCardio','historicoFumante','imc','glicose']]\n",
        "Y = base_saude['diabetes']"
      ],
      "metadata": {
        "id": "tihb2gJR5MGG"
      },
      "execution_count": null,
      "outputs": []
    },
    {
      "cell_type": "markdown",
      "source": [
        "# **Seção 2: Geração de Modelos de Classificação**\n",
        "\n",
        "\n",
        "\n"
      ],
      "metadata": {
        "id": "MclROv_202zo"
      }
    },
    {
      "cell_type": "code",
      "source": [
        "acuracia_modelo1 = []\n",
        "acuracia_modelo2 = []\n",
        "acuracia_modelo3 = []\n",
        "\n",
        "precisao_modelo1 = []\n",
        "precisao_modelo2 = []\n",
        "precisao_modelo3 = []"
      ],
      "metadata": {
        "id": "kqOU0HsnLG8H"
      },
      "execution_count": null,
      "outputs": []
    },
    {
      "cell_type": "code",
      "source": [
        "np.random.seed(14)\n",
        "\n",
        "iteracoes = 30\n",
        "train_size = 0.7\n",
        "\n",
        "for i in range(iteracoes):\n",
        "\n",
        "    X_treino, X_teste, Y_treino, Y_teste = train_test_split(X, Y, train_size=0.7)\n",
        "\n",
        "    # Modelo 1 =  Naive Bayes\n",
        "    model1 = GaussianNB()\n",
        "    model1.fit(X_treino, Y_treino)\n",
        "\n",
        "    # Modelo 2 =  Random Forest\n",
        "    model2 = RandomForestClassifier(n_estimators=50)\n",
        "    model2.fit(X_treino, Y_treino)\n",
        "\n",
        "    # Modelo 3 =  KNN\n",
        "    model3 = KNeighborsClassifier(n_neighbors=9)\n",
        "    model3.fit(X_treino, Y_treino)\n",
        "\n",
        "    predictions1 = model1.predict(X_teste)\n",
        "    acuracia_modelo1.append(accuracy_score(Y_teste, predictions1))\n",
        "    precisao_modelo1.append(precision_score(Y_teste, predictions1))\n",
        "\n",
        "    predictions2 = model2.predict(X_teste)\n",
        "    acuracia_modelo2.append(accuracy_score(Y_teste, predictions2))\n",
        "    precisao_modelo2.append(precision_score(Y_teste, predictions2))\n",
        "\n",
        "    predictions3 = model3.predict(X_teste)\n",
        "    acuracia_modelo3.append(accuracy_score(Y_teste, predictions3))\n",
        "    precisao_modelo3.append(precision_score(Y_teste, predictions3))\n",
        "\n"
      ],
      "metadata": {
        "id": "cumcubiN1KT9"
      },
      "execution_count": null,
      "outputs": []
    },
    {
      "cell_type": "markdown",
      "source": [
        "# **Seção 3: Avaliação de Modelos**"
      ],
      "metadata": {
        "id": "NUGnb5j18BjS"
      }
    },
    {
      "cell_type": "code",
      "source": [
        "print('Média acurácia modelo 1:')\n",
        "print(np.round(np.mean(acuracia_modelo1),2))\n",
        "print('Média acurácia modelo 2:')\n",
        "print(np.round(np.mean(acuracia_modelo2),2))\n",
        "print('Média acurácia modelo 3:')\n",
        "print(np.round(np.mean(acuracia_modelo3),2))"
      ],
      "metadata": {
        "id": "rQmshPEA8MXT"
      },
      "execution_count": null,
      "outputs": []
    },
    {
      "cell_type": "code",
      "source": [
        "print('Média precisão modelo 1:')\n",
        "print(np.round(np.mean(precisao_modelo1),2))\n",
        "print('Média precisão modelo 2:')\n",
        "print(np.round(np.mean(precisao_modelo2),2))\n",
        "print('Média precisão modelo 3:')\n",
        "print(np.round(np.mean(precisao_modelo3),2))"
      ],
      "metadata": {
        "id": "PA_h4ykV_2XZ"
      },
      "execution_count": null,
      "outputs": []
    },
    {
      "cell_type": "code",
      "source": [
        "dados_resultados_acuracia =[acuracia_modelo1, acuracia_modelo2, acuracia_modelo3]\n",
        "\n",
        "plt.boxplot(dados_resultados_acuracia)\n",
        "plt.title(\"Boxplot da amostra de acerto dos modelos\")\n",
        "plt.show()"
      ],
      "metadata": {
        "id": "9iWxwVoeBw2M"
      },
      "execution_count": null,
      "outputs": []
    },
    {
      "cell_type": "code",
      "source": [
        "dados_resultados_precisao =[precisao_modelo1, precisao_modelo2, precisao_modelo3]\n",
        "\n",
        "plt.boxplot(dados_resultados_precisao)\n",
        "plt.title(\"Boxplot da amostra de precisão dos modelos para a classe 1\")\n",
        "plt.show()"
      ],
      "metadata": {
        "id": "AZ4Zr3_lB-YD"
      },
      "execution_count": null,
      "outputs": []
    },
    {
      "cell_type": "markdown",
      "source": [
        "Analisando as avaliações nos modelos, percebe-se que o\n",
        "modelo 3 se destaca dentre os demais. A acurácia do modelo 3 foi bastante satisfatória, como também sua eficiência."
      ],
      "metadata": {
        "id": "6HlwfD83RO_0"
      }
    },
    {
      "cell_type": "markdown",
      "source": [
        "Agora, com a ajuda do especialista do problema (médico, profissionais de saúde\n",
        "em geral) encontramos um modelo/hipótese para resolver o problema de classificação. Esse modelo poderá ser usado pelos especialistas da área de saúde em um sistema diagnóstico."
      ],
      "metadata": {
        "id": "_-0Y4NO9hJ_D"
      }
    },
    {
      "cell_type": "markdown",
      "source": [
        "# **Seção 4: Predição do melhor modelo**"
      ],
      "metadata": {
        "id": "m1A4AIc6CSX4"
      }
    },
    {
      "cell_type": "markdown",
      "source": [
        "Com base no classificador escolhido na Seção 3, usaremos esse exemplo para classificar se esse paciente desenvolverá diabetes:\n",
        "\n",
        "idade = 72 anos\n",
        "\n",
        "Hipertensão  = 1\n",
        "\n",
        "Doença Cardíaca = 0\n",
        "\n",
        "Histórico Fumante = 0\n",
        "\n",
        "IMC = 26.4\n",
        "\n",
        "Glicose = 230\n"
      ],
      "metadata": {
        "id": "yy9CRJHGCwvJ"
      }
    },
    {
      "cell_type": "markdown",
      "source": [
        "**Coleta de dados do paciente**"
      ],
      "metadata": {
        "id": "GPCfVbUPfiol"
      }
    },
    {
      "cell_type": "code",
      "source": [
        "idade = int(input('Informe a idade do paciente: '))\n",
        "hipertenso = int(input('Informe se o paciente é hipertenso: '))\n",
        "doencaCardio = int(input('Informe se o paciente sofre de alguma doença cardíaca: '))\n",
        "historicoFumante = int(input('Qual o histórico do paciente em relação ao tabagismo: '))\n",
        "imc = float(input('Informe o IMC do paciente: '))\n",
        "glicose = int(input('Indique a glicose: '))\n"
      ],
      "metadata": {
        "id": "tj2SAJ3dfhzY"
      },
      "execution_count": null,
      "outputs": []
    },
    {
      "cell_type": "markdown",
      "source": [
        "**Resposta do sistema**"
      ],
      "metadata": {
        "id": "9N2QuPzGgcDW"
      }
    },
    {
      "cell_type": "code",
      "source": [
        "novo_paciente = [[idade, hipertenso, doencaCardio, historicoFumante, imc, glicose]]\n",
        "variaveis = ['idade','hipertenso', 'doencaCardio','historicoFumante','imc','glicose']\n",
        "novo_paciente =  pd.DataFrame(novo_paciente, columns = variaveis)\n",
        "resposta = model3.predict(novo_paciente)\n",
        "\n",
        "for i in range(len(resposta)):\n",
        "  if resposta[i] == 1.0 :\n",
        "    print('Desenvolverá diabetes')\n",
        "  else:\n",
        "    print('Não desenvolverá diabetes')"
      ],
      "metadata": {
        "id": "bg0ExM-aDLOY",
        "colab": {
          "base_uri": "https://localhost:8080/"
        },
        "outputId": "2c56b9d3-18e8-427b-cdf7-e16786f0f0fb"
      },
      "execution_count": 18,
      "outputs": [
        {
          "output_type": "stream",
          "name": "stdout",
          "text": [
            "Desenvolverá diabetes\n"
          ]
        }
      ]
    }
  ]
}