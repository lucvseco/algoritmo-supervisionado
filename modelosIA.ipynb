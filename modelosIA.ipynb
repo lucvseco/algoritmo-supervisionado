{
  "nbformat": 4,
  "nbformat_minor": 0,
  "metadata": {
    "colab": {
      "provenance": [],
      "include_colab_link": true
    },
    "kernelspec": {
      "name": "python3",
      "display_name": "Python 3"
    },
    "language_info": {
      "name": "python"
    }
  },
  "cells": [
    {
      "cell_type": "markdown",
      "metadata": {
        "id": "view-in-github",
        "colab_type": "text"
      },
      "source": [
        "<a href=\"https://colab.research.google.com/github/lucvseco/lucas-eduardo/blob/main/modelosIA.ipynb\" target=\"_parent\"><img src=\"https://colab.research.google.com/assets/colab-badge.svg\" alt=\"Open In Colab\"/></a>"
      ]
    },
    {
      "cell_type": "markdown",
      "source": [
        "# **Importação de bibliotecas**"
      ],
      "metadata": {
        "id": "0jbBsuQzlV2j"
      }
    },
    {
      "cell_type": "code",
      "execution_count": null,
      "metadata": {
        "id": "4NVGYLj5jljA"
      },
      "outputs": [],
      "source": [
        "import pandas as pd\n",
        "import numpy as np\n",
        "\n",
        "import matplotlib.pyplot as plt\n",
        "from matplotlib.colors import ListedColormap\n",
        "\n",
        "from sklearn.metrics import accuracy_score  \n",
        "from sklearn.metrics import precision_score \n",
        "from sklearn.model_selection import train_test_split \n",
        "\n",
        "from sklearn.tree import DecisionTreeClassifier \n",
        "from sklearn.svm import SVC  \n",
        "from sklearn.neighbors import KNeighborsClassifier\n",
        "from sklearn.naive_bayes import GaussianNB \n",
        "from sklearn.ensemble import RandomForestClassifier"
      ]
    },
    {
      "cell_type": "markdown",
      "source": [
        "# **Importação de Dados**"
      ],
      "metadata": {
        "id": "4N5UCeyJmRUM"
      }
    },
    {
      "cell_type": "code",
      "source": [
        "base_saude = \n",
        "base_saude.head(10)"
      ],
      "metadata": {
        "id": "bIy5rJvXmYZ3"
      },
      "execution_count": null,
      "outputs": []
    },
    {
      "cell_type": "code",
      "source": [],
      "metadata": {
        "id": "AINzboiC8aaC"
      },
      "execution_count": null,
      "outputs": []
    },
    {
      "cell_type": "markdown",
      "source": [
        "# **Seção 1: Caracterização dos Dados**\n",
        "\n",
        "\n"
      ],
      "metadata": {
        "id": "Ws9wxfXTnX31"
      }
    },
    {
      "cell_type": "code",
      "source": [
        "# Distribuição da variável resposta\n",
        "num_categorias = base_saude[' '].value_counts()\n",
        "print(num_categorias)"
      ],
      "metadata": {
        "id": "-ZC7kc0gnnU6"
      },
      "execution_count": null,
      "outputs": []
    },
    {
      "cell_type": "code",
      "source": [
        "# Relação entre idade e IMC pela variável resposta\n",
        "colors = ListedColormap(['orange', 'green'])\n",
        "scatter = plt.scatter(y = base_saude[' '], x = base_saude[' '], c= base_saude[' '] ,  cmap=colors)\n",
        "plt.title(\"Relação entre idade e IMC de pacientes\")\n",
        "plt.ylabel(\"IMC\")\n",
        "plt.xlabel(\"Idade\")\n",
        "plt.legend(*scatter.legend_elements())\n",
        "plt.show()"
      ],
      "metadata": {
        "id": "WmZnKEVToVyK"
      },
      "execution_count": null,
      "outputs": []
    },
    {
      "cell_type": "markdown",
      "source": [
        "O conjunto de dados é uma coleção de dados médicos juntamente com seu status de diabetes (positivo ou negativo). Os dados incluem características como idade, sexo, índice de massa corporal (IMC), hipertensão, doenças cardíacas, histórico de tabagismo e nível de açúcar no sangue. Esse conjunto de dados pode ser usado para criar modelos de aprendizado de máquina para prever diabetes em pacientes com base em seu histórico médico. Isso pode ser útil para os profissionais de saúde na identificação de pacientes que podem estar em risco de desenvolver diabetes e no desenvolvimento de planos de tratamento personalizados. \n",
        "\n",
        "Seu objetivo agora é avaliar a performance de modelos  de classificação considerando alguns  pontos:\n",
        "\n",
        "**Foi determinado que as características (X) que estão altamente relacionadas ao problema, são:**\n",
        "1. idade\n",
        "2. existência de hipertensão \n",
        "3. existência de doença cardiaca\n",
        "4. ser fumante \n",
        "5. IMC\n",
        "6. glicose no sangue"
      ],
      "metadata": {
        "id": "6d3GLyK14SKa"
      }
    },
    {
      "cell_type": "code",
      "source": [
        "X = base_saude[['']] #indique as variáveis explicativas\n",
        "Y = base_saude[''] #indique a variável resposta"
      ],
      "metadata": {
        "id": "tihb2gJR5MGG"
      },
      "execution_count": null,
      "outputs": []
    },
    {
      "cell_type": "markdown",
      "source": [
        "# **Seção 2: Geração de Modelos de Classificação**\n",
        "\n",
        "\n",
        "Instruções:\n",
        "\n",
        "\n",
        "\n",
        "- **Gere 3 classificadores:**\n",
        "\n",
        "1. Naive Bayes\n",
        "2. Random Forest com 50 árvores\n",
        "3. KNN com 9 vizinhos\n",
        "\n",
        "\n",
        "- **Divida a base original em treino 70% e teste 30%**\n",
        "\n",
        "- **Analise o desempenho de 30 execuções de cada modelo**\n",
        "\n",
        "\n"
      ],
      "metadata": {
        "id": "MclROv_202zo"
      }
    },
    {
      "cell_type": "code",
      "source": [
        "acuracia_modelo1 = []\n",
        "acuracia_modelo2 = []\n",
        "acuracia_modelo3 = []\n",
        "\n",
        "precisao_modelo1 = []\n",
        "precisao_modelo2 = []\n",
        "precisao_modelo3 = []"
      ],
      "metadata": {
        "id": "kqOU0HsnLG8H"
      },
      "execution_count": null,
      "outputs": []
    },
    {
      "cell_type": "code",
      "source": [
        "np.random.seed(14)\n",
        "\n",
        "# Altere os parâmetros abaixo para configuar  o ambiente adequadamente\n",
        "iteracoes = 0 \n",
        "train_size = 0\n",
        "\n",
        "for i in range(iteracoes):\n",
        "    \n",
        "    X_treino, X_teste, Y_treino, Y_teste = train_test_split(X, Y, train_size = train_size)\n",
        "\n",
        "    # Modelo 1 =  Naive Bayes\n",
        "    model1 =\n",
        "    model1.fit(X_treino, Y_treino)\n",
        "\n",
        "    # Modelo 2 =  Random Forest\n",
        "    model2 = \n",
        "    model2.fit(X_treino, Y_treino)\n",
        "\n",
        "    # Modelo 3 =  KNN\n",
        "    model3 = \n",
        "    model3.fit(X_treino, Y_treino)\n",
        "\n",
        "    predictions1 = model1.predict(X_teste)\n",
        "    acuracia_modelo1.append(accuracy_score(Y_teste, predictions1))\n",
        "    precisao_modelo1.append(precision_score(Y_teste, predictions1))\n",
        "\n",
        "    predictions2 = model2.predict(X_teste)\n",
        "    acuracia_modelo2.append(accuracy_score(Y_teste, predictions2))\n",
        "    precisao_modelo2.append(precision_score(Y_teste, predictions2))\n",
        "\n",
        "    predictions3 = model3.predict(X_teste)\n",
        "    acuracia_modelo3.append(accuracy_score(Y_teste, predictions3))\n",
        "    precisao_modelo3.append(precision_score(Y_teste, predictions3))\n",
        "\n"
      ],
      "metadata": {
        "id": "cumcubiN1KT9"
      },
      "execution_count": null,
      "outputs": []
    },
    {
      "cell_type": "markdown",
      "source": [
        "# **Seção 3: Avaliação de Modelos**"
      ],
      "metadata": {
        "id": "NUGnb5j18BjS"
      }
    },
    {
      "cell_type": "code",
      "source": [
        "print('Média acurácia modelo 1:')\n",
        "print(np.round(np.mean(acuracia_modelo1),2))\n",
        "print('Média acurácia modelo 2:')\n",
        "print(np.round(np.mean(acuracia_modelo2),2))\n",
        "print('Média acurácia modelo 3:')\n",
        "print(np.round(np.mean(acuracia_modelo3),2))"
      ],
      "metadata": {
        "id": "rQmshPEA8MXT"
      },
      "execution_count": null,
      "outputs": []
    },
    {
      "cell_type": "code",
      "source": [
        "print('Média precisão modelo 1:')\n",
        "print(np.round(np.mean(precisao_modelo1),2))\n",
        "print('Média precisão modelo 2:')\n",
        "print(np.round(np.mean(precisao_modelo2),2))\n",
        "print('Média precisão modelo 3:')\n",
        "print(np.round(np.mean(precisao_modelo3),2))"
      ],
      "metadata": {
        "id": "PA_h4ykV_2XZ"
      },
      "execution_count": null,
      "outputs": []
    },
    {
      "cell_type": "code",
      "source": [
        "dados_resultados_acuracia =[acuracia_modelo1, acuracia_modelo2, acuracia_modelo3]\n",
        "\n",
        "plt.boxplot(dados_resultados_acuracia)\n",
        "plt.title(\"Boxplot da amostra de acerto dos modelos\")\n",
        "plt.show()"
      ],
      "metadata": {
        "id": "9iWxwVoeBw2M"
      },
      "execution_count": null,
      "outputs": []
    },
    {
      "cell_type": "code",
      "source": [
        "dados_resultados_precisao =[precisao_modelo1, precisao_modelo2, precisao_modelo3]\n",
        "\n",
        "plt.boxplot(dados_resultados_precisao)\n",
        "plt.title(\"Boxplot da amostra de precisão dos modelos para a classe 1\")\n",
        "plt.show()"
      ],
      "metadata": {
        "id": "AZ4Zr3_lB-YD"
      },
      "execution_count": null,
      "outputs": []
    },
    {
      "cell_type": "markdown",
      "source": [
        "Agora, com a ajuda do especialista do problema (médico, profissionais de saúde em geral) você encontrou um modelo/hipótese para resolver o problema de classificação. Esse modelo será usado em um sistema diagnóstico usado pelos especialistas da área de saúde."
      ],
      "metadata": {
        "id": "_-0Y4NO9hJ_D"
      }
    },
    {
      "cell_type": "markdown",
      "source": [
        "# **Seção 4: Predição do melhor modelo**"
      ],
      "metadata": {
        "id": "m1A4AIc6CSX4"
      }
    },
    {
      "cell_type": "markdown",
      "source": [
        "Com base no classificador escolhido na Seção 3, determine o rótulo de um novo paciente com as seguintes características:\n",
        "\n",
        "idade = 72 anos\n",
        "\n",
        "Hipertensão  = 1\n",
        "\n",
        "Doença Cardíaca = 0 \n",
        "\n",
        "Histórico Fumante = 0\n",
        "\n",
        "IMC = 26.4\n",
        "\n",
        "Glicose = 230\n"
      ],
      "metadata": {
        "id": "yy9CRJHGCwvJ"
      }
    },
    {
      "cell_type": "markdown",
      "source": [
        "**Coleta de dados do paciente**"
      ],
      "metadata": {
        "id": "GPCfVbUPfiol"
      }
    },
    {
      "cell_type": "code",
      "source": [
        "idade = int(input('Informe a idade do paciente: '))\n",
        "hipertenso = int(input('Informe se o paciente é hipertenso: '))\n",
        "doencaCardio = int(input('Informe se o paciente sofre de alguma doença cardíaca: '))\n",
        "historicoFumante = int(input('Qual o histórico do paciente em relação ao tabagismo: '))\n",
        "imc = float(input('Informe o IMC do paciente: '))\n",
        "glicose = int(input('Indique a glicose: '))\n"
      ],
      "metadata": {
        "id": "tj2SAJ3dfhzY"
      },
      "execution_count": null,
      "outputs": []
    },
    {
      "cell_type": "markdown",
      "source": [
        "**Resposta do sistema**"
      ],
      "metadata": {
        "id": "9N2QuPzGgcDW"
      }
    },
    {
      "cell_type": "code",
      "source": [
        "novo_paciente = [[idade, hipertenso, doencaCardio, historicoFumante, imc, glicose]]\n",
        "variaveis = ['idade','hipertenso', 'doencaCardio','historicoFumante','imc','glicose']\n",
        "novo_paciente =  pd.DataFrame(novo_paciente, columns = variaveis)\n",
        "resposta = modelX.predict(novo_paciente)    #Troque  o X pelo melhor número do melhor modelo (1, 2 ou 3)\n",
        "\n",
        "for i in range(len(resposta)):\n",
        "  if resposta[i] == 1.0 :\n",
        "    print('Desenvolverá diabetes')\n",
        "  else:\n",
        "    print('Não desenvolverá diabetes')"
      ],
      "metadata": {
        "id": "bg0ExM-aDLOY"
      },
      "execution_count": null,
      "outputs": []
    }
  ]
}