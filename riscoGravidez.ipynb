{
  "nbformat": 4,
  "nbformat_minor": 0,
  "metadata": {
    "colab": {
      "provenance": [],
      "authorship_tag": "ABX9TyMUlmRoA8TcBXEcCkLPUAlG",
      "include_colab_link": true
    },
    "kernelspec": {
      "name": "python3",
      "display_name": "Python 3"
    },
    "language_info": {
      "name": "python"
    }
  },
  "cells": [
    {
      "cell_type": "markdown",
      "metadata": {
        "id": "view-in-github",
        "colab_type": "text"
      },
      "source": [
        "<a href=\"https://colab.research.google.com/github/lucvseco/algoritmo-supervisionado/blob/main/riscoGravidez.ipynb\" target=\"_parent\"><img src=\"https://colab.research.google.com/assets/colab-badge.svg\" alt=\"Open In Colab\"/></a>"
      ]
    },
    {
      "cell_type": "markdown",
      "source": [
        "#**CONTEXTO:**\n",
        "Avaliando o melhor modelo para decidir o risco de gravidez.\n",
        "\n"
      ],
      "metadata": {
        "id": "SCx6M3Tl78vH"
      }
    },
    {
      "cell_type": "markdown",
      "source": [
        "#**Importando bibliotecas**\n",
        "\n",
        "\n"
      ],
      "metadata": {
        "id": "Mc87ZLsquBoy"
      }
    },
    {
      "cell_type": "code",
      "source": [
        "# biblioteca para manipulação de dados\n",
        "import pandas as pd\n",
        "import numpy as np\n",
        "# bibliotecas para geração de gráficos\n",
        "import matplotlib.pyplot as plt\n",
        "import seaborn as sns\n",
        "# técnica de partição em treino e teste\n",
        "from sklearn.model_selection import train_test_split\n",
        "#Importanto técnicas de avaliação de modelos\n",
        "from sklearn.metrics import accuracy_score  #métrica acurácia\n",
        "from sklearn.metrics import confusion_matrix  #árvore de confusão\n",
        "from sklearn.metrics import classification_report #várias métricas\n",
        "# Importando as técnicas de aprendizagem (Classificadores)\n",
        "from sklearn.tree import DecisionTreeClassifier # técnica árvore de decisão\n",
        "from sklearn.svm import SVC  #técnica SVM\n",
        "from sklearn.neighbors import KNeighborsClassifier # técnica KNN"
      ],
      "metadata": {
        "id": "6UiQQBMYuMcq"
      },
      "execution_count": null,
      "outputs": []
    },
    {
      "cell_type": "markdown",
      "source": [
        "#**Importação dos dados**"
      ],
      "metadata": {
        "id": "L40i22-yudSh"
      }
    },
    {
      "cell_type": "code",
      "source": [
        "base_classificacao = pd.read_csv(\"/content/riscoGravidez.csv\", sep=',')\n",
        "base_classificacao.head()"
      ],
      "metadata": {
        "colab": {
          "base_uri": "https://localhost:8080/",
          "height": 206
        },
        "id": "61IQytK5ujOH",
        "outputId": "e0eee2e2-196b-4563-edd9-cd931a6baf08"
      },
      "execution_count": null,
      "outputs": [
        {
          "output_type": "execute_result",
          "data": {
            "text/plain": [
              "   idade  pressaoSup  pressaoInf  glicose  tempCorpoF  freqCardio  nivelRisco\n",
              "0     25         130          80     15.0        98.0          86           0\n",
              "1     35         140          90     13.0        98.0          70           0\n",
              "2     29          90          70      8.0       100.0          80           0\n",
              "3     30         140          85      7.0        98.0          70           0\n",
              "4     35         120          60      6.1        98.0          76           2"
            ],
            "text/html": [
              "\n",
              "  <div id=\"df-f5352cdc-186a-4fce-9483-654eaf98dda7\" class=\"colab-df-container\">\n",
              "    <div>\n",
              "<style scoped>\n",
              "    .dataframe tbody tr th:only-of-type {\n",
              "        vertical-align: middle;\n",
              "    }\n",
              "\n",
              "    .dataframe tbody tr th {\n",
              "        vertical-align: top;\n",
              "    }\n",
              "\n",
              "    .dataframe thead th {\n",
              "        text-align: right;\n",
              "    }\n",
              "</style>\n",
              "<table border=\"1\" class=\"dataframe\">\n",
              "  <thead>\n",
              "    <tr style=\"text-align: right;\">\n",
              "      <th></th>\n",
              "      <th>idade</th>\n",
              "      <th>pressaoSup</th>\n",
              "      <th>pressaoInf</th>\n",
              "      <th>glicose</th>\n",
              "      <th>tempCorpoF</th>\n",
              "      <th>freqCardio</th>\n",
              "      <th>nivelRisco</th>\n",
              "    </tr>\n",
              "  </thead>\n",
              "  <tbody>\n",
              "    <tr>\n",
              "      <th>0</th>\n",
              "      <td>25</td>\n",
              "      <td>130</td>\n",
              "      <td>80</td>\n",
              "      <td>15.0</td>\n",
              "      <td>98.0</td>\n",
              "      <td>86</td>\n",
              "      <td>0</td>\n",
              "    </tr>\n",
              "    <tr>\n",
              "      <th>1</th>\n",
              "      <td>35</td>\n",
              "      <td>140</td>\n",
              "      <td>90</td>\n",
              "      <td>13.0</td>\n",
              "      <td>98.0</td>\n",
              "      <td>70</td>\n",
              "      <td>0</td>\n",
              "    </tr>\n",
              "    <tr>\n",
              "      <th>2</th>\n",
              "      <td>29</td>\n",
              "      <td>90</td>\n",
              "      <td>70</td>\n",
              "      <td>8.0</td>\n",
              "      <td>100.0</td>\n",
              "      <td>80</td>\n",
              "      <td>0</td>\n",
              "    </tr>\n",
              "    <tr>\n",
              "      <th>3</th>\n",
              "      <td>30</td>\n",
              "      <td>140</td>\n",
              "      <td>85</td>\n",
              "      <td>7.0</td>\n",
              "      <td>98.0</td>\n",
              "      <td>70</td>\n",
              "      <td>0</td>\n",
              "    </tr>\n",
              "    <tr>\n",
              "      <th>4</th>\n",
              "      <td>35</td>\n",
              "      <td>120</td>\n",
              "      <td>60</td>\n",
              "      <td>6.1</td>\n",
              "      <td>98.0</td>\n",
              "      <td>76</td>\n",
              "      <td>2</td>\n",
              "    </tr>\n",
              "  </tbody>\n",
              "</table>\n",
              "</div>\n",
              "    <div class=\"colab-df-buttons\">\n",
              "\n",
              "  <div class=\"colab-df-container\">\n",
              "    <button class=\"colab-df-convert\" onclick=\"convertToInteractive('df-f5352cdc-186a-4fce-9483-654eaf98dda7')\"\n",
              "            title=\"Convert this dataframe to an interactive table.\"\n",
              "            style=\"display:none;\">\n",
              "\n",
              "  <svg xmlns=\"http://www.w3.org/2000/svg\" height=\"24px\" viewBox=\"0 -960 960 960\">\n",
              "    <path d=\"M120-120v-720h720v720H120Zm60-500h600v-160H180v160Zm220 220h160v-160H400v160Zm0 220h160v-160H400v160ZM180-400h160v-160H180v160Zm440 0h160v-160H620v160ZM180-180h160v-160H180v160Zm440 0h160v-160H620v160Z\"/>\n",
              "  </svg>\n",
              "    </button>\n",
              "\n",
              "  <style>\n",
              "    .colab-df-container {\n",
              "      display:flex;\n",
              "      gap: 12px;\n",
              "    }\n",
              "\n",
              "    .colab-df-convert {\n",
              "      background-color: #E8F0FE;\n",
              "      border: none;\n",
              "      border-radius: 50%;\n",
              "      cursor: pointer;\n",
              "      display: none;\n",
              "      fill: #1967D2;\n",
              "      height: 32px;\n",
              "      padding: 0 0 0 0;\n",
              "      width: 32px;\n",
              "    }\n",
              "\n",
              "    .colab-df-convert:hover {\n",
              "      background-color: #E2EBFA;\n",
              "      box-shadow: 0px 1px 2px rgba(60, 64, 67, 0.3), 0px 1px 3px 1px rgba(60, 64, 67, 0.15);\n",
              "      fill: #174EA6;\n",
              "    }\n",
              "\n",
              "    .colab-df-buttons div {\n",
              "      margin-bottom: 4px;\n",
              "    }\n",
              "\n",
              "    [theme=dark] .colab-df-convert {\n",
              "      background-color: #3B4455;\n",
              "      fill: #D2E3FC;\n",
              "    }\n",
              "\n",
              "    [theme=dark] .colab-df-convert:hover {\n",
              "      background-color: #434B5C;\n",
              "      box-shadow: 0px 1px 3px 1px rgba(0, 0, 0, 0.15);\n",
              "      filter: drop-shadow(0px 1px 2px rgba(0, 0, 0, 0.3));\n",
              "      fill: #FFFFFF;\n",
              "    }\n",
              "  </style>\n",
              "\n",
              "    <script>\n",
              "      const buttonEl =\n",
              "        document.querySelector('#df-f5352cdc-186a-4fce-9483-654eaf98dda7 button.colab-df-convert');\n",
              "      buttonEl.style.display =\n",
              "        google.colab.kernel.accessAllowed ? 'block' : 'none';\n",
              "\n",
              "      async function convertToInteractive(key) {\n",
              "        const element = document.querySelector('#df-f5352cdc-186a-4fce-9483-654eaf98dda7');\n",
              "        const dataTable =\n",
              "          await google.colab.kernel.invokeFunction('convertToInteractive',\n",
              "                                                    [key], {});\n",
              "        if (!dataTable) return;\n",
              "\n",
              "        const docLinkHtml = 'Like what you see? Visit the ' +\n",
              "          '<a target=\"_blank\" href=https://colab.research.google.com/notebooks/data_table.ipynb>data table notebook</a>'\n",
              "          + ' to learn more about interactive tables.';\n",
              "        element.innerHTML = '';\n",
              "        dataTable['output_type'] = 'display_data';\n",
              "        await google.colab.output.renderOutput(dataTable, element);\n",
              "        const docLink = document.createElement('div');\n",
              "        docLink.innerHTML = docLinkHtml;\n",
              "        element.appendChild(docLink);\n",
              "      }\n",
              "    </script>\n",
              "  </div>\n",
              "\n",
              "\n",
              "<div id=\"df-7d89ce1c-06f9-4f39-9e96-fd996c63dd31\">\n",
              "  <button class=\"colab-df-quickchart\" onclick=\"quickchart('df-7d89ce1c-06f9-4f39-9e96-fd996c63dd31')\"\n",
              "            title=\"Suggest charts.\"\n",
              "            style=\"display:none;\">\n",
              "\n",
              "<svg xmlns=\"http://www.w3.org/2000/svg\" height=\"24px\"viewBox=\"0 0 24 24\"\n",
              "     width=\"24px\">\n",
              "    <g>\n",
              "        <path d=\"M19 3H5c-1.1 0-2 .9-2 2v14c0 1.1.9 2 2 2h14c1.1 0 2-.9 2-2V5c0-1.1-.9-2-2-2zM9 17H7v-7h2v7zm4 0h-2V7h2v10zm4 0h-2v-4h2v4z\"/>\n",
              "    </g>\n",
              "</svg>\n",
              "  </button>\n",
              "\n",
              "<style>\n",
              "  .colab-df-quickchart {\n",
              "    background-color: #E8F0FE;\n",
              "    border: none;\n",
              "    border-radius: 50%;\n",
              "    cursor: pointer;\n",
              "    display: none;\n",
              "    fill: #1967D2;\n",
              "    height: 32px;\n",
              "    padding: 0 0 0 0;\n",
              "    width: 32px;\n",
              "  }\n",
              "\n",
              "  .colab-df-quickchart:hover {\n",
              "    background-color: #E2EBFA;\n",
              "    box-shadow: 0px 1px 2px rgba(60, 64, 67, 0.3), 0px 1px 3px 1px rgba(60, 64, 67, 0.15);\n",
              "    fill: #174EA6;\n",
              "  }\n",
              "\n",
              "  [theme=dark] .colab-df-quickchart {\n",
              "    background-color: #3B4455;\n",
              "    fill: #D2E3FC;\n",
              "  }\n",
              "\n",
              "  [theme=dark] .colab-df-quickchart:hover {\n",
              "    background-color: #434B5C;\n",
              "    box-shadow: 0px 1px 3px 1px rgba(0, 0, 0, 0.15);\n",
              "    filter: drop-shadow(0px 1px 2px rgba(0, 0, 0, 0.3));\n",
              "    fill: #FFFFFF;\n",
              "  }\n",
              "</style>\n",
              "\n",
              "  <script>\n",
              "    async function quickchart(key) {\n",
              "      const charts = await google.colab.kernel.invokeFunction(\n",
              "          'suggestCharts', [key], {});\n",
              "    }\n",
              "    (() => {\n",
              "      let quickchartButtonEl =\n",
              "        document.querySelector('#df-7d89ce1c-06f9-4f39-9e96-fd996c63dd31 button');\n",
              "      quickchartButtonEl.style.display =\n",
              "        google.colab.kernel.accessAllowed ? 'block' : 'none';\n",
              "    })();\n",
              "  </script>\n",
              "</div>\n",
              "    </div>\n",
              "  </div>\n"
            ]
          },
          "metadata": {},
          "execution_count": 3
        }
      ]
    },
    {
      "cell_type": "markdown",
      "source": [
        "**Descrição dos Dados**\n",
        "\n",
        "-Idade: Idade em anos de uma paciente grávida.\n",
        "\n",
        "-pressaoSup: Valor superior da pressão arterial em mmHg.\n",
        "\n",
        "-pressaoInf: Menor valor da Pressão Arterial em mmHg.\n",
        "\n",
        "-glicose: Os níveis de glicose no sangue são em termos de concentração.\n",
        "\n",
        "-tempCorpoF: Temperatura corporal em °F\n",
        "\n",
        "-freqCardio: Uma frequência cardíaca normal em repouso em batimentos por minuto.\n",
        "\n",
        "-Nível de Risco: Nível de Intensidade de Risco Previsto durante a gravidez.\n",
        "\n",
        "     0 = Alto risco\n",
        "     1 = Risco médio\n",
        "     2 = Baixo risco"
      ],
      "metadata": {
        "id": "Q1cR9_VXu0qx"
      }
    },
    {
      "cell_type": "markdown",
      "source": [
        "# **Seção 1: Caracterização dos Dados**"
      ],
      "metadata": {
        "id": "yPZF0RUWu3Q2"
      }
    },
    {
      "cell_type": "code",
      "source": [
        "# Distribuição da variável resposta\n",
        "num_categorias = base_classificacao['nivelRisco'].value_counts()\n",
        "print(num_categorias)"
      ],
      "metadata": {
        "colab": {
          "base_uri": "https://localhost:8080/"
        },
        "id": "YEZavJiXvC03",
        "outputId": "7fc99c31-bf96-4d88-ec2c-5b7c40bccc0a"
      },
      "execution_count": null,
      "outputs": [
        {
          "output_type": "stream",
          "name": "stdout",
          "text": [
            "2    406\n",
            "1    336\n",
            "0    272\n",
            "Name: nivelRisco, dtype: int64\n"
          ]
        }
      ]
    },
    {
      "cell_type": "code",
      "source": [
        "# Gráfico de dispersão: relacionando glicose e pressão pelo nível de risco.\n",
        "sns.scatterplot(data=base_classificacao, x=\"pressaoSup\", y=\"glicose\", hue=\"nivelRisco\", palette=\"deep\", size=\"nivelRisco\")\n",
        "plt.xlabel(\"Pressão Superior (Sistólica)\")\n",
        "plt.ylabel(\"Glicose\")\n",
        "plt.show()"
      ],
      "metadata": {
        "colab": {
          "base_uri": "https://localhost:8080/",
          "height": 450
        },
        "id": "DEORtFtWvWkI",
        "outputId": "3fa98ad5-0733-4ab6-b87a-cd221fc1207a"
      },
      "execution_count": null,
      "outputs": [
        {
          "output_type": "display_data",
          "data": {
            "text/plain": [
              "<Figure size 640x480 with 1 Axes>"
            ],
            "image/png": "[encoded data removed]"
          },
          "metadata": {}
        }
      ]
    },
    {
      "cell_type": "code",
      "source": [
        "sns.boxplot(x='nivelRisco', y='idade',data=base_classificacao)\n",
        "plt.show()"
      ],
      "metadata": {
        "colab": {
          "base_uri": "https://localhost:8080/",
          "height": 449
        },
        "id": "lhYeAMsTvY0E",
        "outputId": "ddb8bf54-03b4-4294-88fc-73eacac1326f"
      },
      "execution_count": null,
      "outputs": [
        {
          "output_type": "display_data",
          "data": {
            "text/plain": [
              "<Figure size 640x480 with 1 Axes>"
            ],
            "image/png": "[encoded data removed]"
          },
          "metadata": {}
        }
      ]
    },
    {
      "cell_type": "code",
      "source": [
        "Y = base_classificacao['nivelRisco']\n",
        "X = base_classificacao.drop('nivelRisco', axis=1)"
      ],
      "metadata": {
        "id": "a1Uy1nPDveTZ"
      },
      "execution_count": null,
      "outputs": []
    },
    {
      "cell_type": "markdown",
      "source": [
        "### **Seção 2:Treinando e testando modelos de classificação**"
      ],
      "metadata": {
        "id": "8qwyNf3Z13dd"
      }
    },
    {
      "cell_type": "code",
      "source": [
        "resultados_modelo1 = []\n",
        "resultados_modelo2 = []\n",
        "resultados_modelo3 = []\n",
        "\n",
        "# definindo uma semente global\n",
        "np.random.seed(7)\n",
        "\n",
        "# início do processo iterativo\n",
        "for i in range(100):\n",
        "\n",
        "  # Separação aleatória em conjuntos de treino e teste\n",
        "  X_treino, X_teste, Y_treino, Y_teste = train_test_split(X, Y, train_size=0.75)\n",
        "\n",
        "  ###### Treinamento de modelos #####\n",
        "  # Modelo 1 =  KNN\n",
        "  model1 = KNeighborsClassifier(n_neighbors=3)\n",
        "  model1.fit(X_treino, Y_treino)\n",
        "\n",
        "  # Modelo 2 =  SVM\n",
        "  model2 = SVC()\n",
        "  model2.fit(X_treino, Y_treino)\n",
        "\n",
        "  # Modelo 2 =  Árvore de Decisão\n",
        "  model3 = DecisionTreeClassifier()\n",
        "  model3.fit(X_treino, Y_treino)\n",
        "\n",
        "  ##### Avaliação de Modelos ######\n",
        "  # Estimativas na base de teste (dados não vistos/futuros)/guardando resultados nas listas\n",
        "  predictions1 = model1.predict(X_teste)\n",
        "  resultados_modelo1.append(accuracy_score(Y_teste, predictions1))\n",
        "\n",
        "  predictions2 = model2.predict(X_teste)\n",
        "  resultados_modelo2.append(accuracy_score(Y_teste, predictions2))\n",
        "\n",
        "  predictions3 = model3.predict(X_teste)\n",
        "  resultados_modelo3.append(accuracy_score(Y_teste, predictions3))"
      ],
      "metadata": {
        "id": "UX8UIcNb14ya"
      },
      "execution_count": null,
      "outputs": []
    },
    {
      "cell_type": "markdown",
      "source": [
        "#**Seção 3: Avaliando os modelos**"
      ],
      "metadata": {
        "id": "7SMOvw1F2Ku1"
      }
    },
    {
      "cell_type": "code",
      "source": [
        "print('Média modelo 1 / Média modelo 2 / Média modelo 3:')\n",
        "print(round(np.mean(resultados_modelo1),2), round(np.mean(resultados_modelo2),2), round(np.mean(resultados_modelo3),2),'\\n')\n",
        "\n",
        "print('Desvio padrão modelo 1 / Desvio padrão modelo 2 / Desvio padrão modelo 3:')\n",
        "print(round(np.std(resultados_modelo1),2), round(np.std(resultados_modelo2),2), round(np.std(resultados_modelo3),2))"
      ],
      "metadata": {
        "colab": {
          "base_uri": "https://localhost:8080/"
        },
        "id": "Ae36zKRc2ecG",
        "outputId": "f2f7ca61-0c1a-475a-fa9b-e341905a257d"
      },
      "execution_count": null,
      "outputs": [
        {
          "output_type": "stream",
          "name": "stdout",
          "text": [
            "Média modelo 1 / Média modelo 2 / Média modelo 3:\n",
            "0.71 0.59 0.83 \n",
            "\n",
            "Desvio padrão modelo 1 / Desvio padrão modelo 2 / Desvio padrão modelo 3:\n",
            "0.03 0.03 0.02\n"
          ]
        }
      ]
    },
    {
      "cell_type": "code",
      "source": [
        "# Execute este códido para visualizar o boxplot para cada modelo.\n",
        "dados_resultados =[resultados_modelo1, resultados_modelo2, resultados_modelo3]\n",
        "\n",
        "plt.boxplot(dados_resultados)\n",
        "plt.title(\"Boxplot da amostra de acerto dos modelos\")\n",
        "plt.show()"
      ],
      "metadata": {
        "colab": {
          "base_uri": "https://localhost:8080/",
          "height": 452
        },
        "id": "EsoRQs1D2i1C",
        "outputId": "874804f8-f000-4283-ed1f-ccf2652b1ef8"
      },
      "execution_count": null,
      "outputs": [
        {
          "output_type": "display_data",
          "data": {
            "text/plain": [
              "<Figure size 640x480 with 1 Axes>"
            ],
            "image/png": "[encoded data removed]"
          },
          "metadata": {}
        }
      ]
    },
    {
      "cell_type": "code",
      "source": [
        "print(classification_report(Y_teste, predictions1), '\\n')\n",
        "print(classification_report(Y_teste, predictions2), '\\n')\n",
        "print(classification_report(Y_teste, predictions3))"
      ],
      "metadata": {
        "colab": {
          "base_uri": "https://localhost:8080/"
        },
        "id": "v5nxnnPy2opu",
        "outputId": "52686d74-f4c6-41c4-f517-922e35ce4217"
      },
      "execution_count": null,
      "outputs": [
        {
          "output_type": "stream",
          "name": "stdout",
          "text": [
            "              precision    recall  f1-score   support\n",
            "\n",
            "           0       0.81      0.79      0.80        70\n",
            "           1       0.68      0.72      0.70        93\n",
            "           2       0.73      0.70      0.72        91\n",
            "\n",
            "    accuracy                           0.73       254\n",
            "   macro avg       0.74      0.74      0.74       254\n",
            "weighted avg       0.73      0.73      0.73       254\n",
            " \n",
            "\n",
            "              precision    recall  f1-score   support\n",
            "\n",
            "           0       0.91      0.73      0.81        70\n",
            "           1       0.66      0.23      0.34        93\n",
            "           2       0.52      0.95      0.67        91\n",
            "\n",
            "    accuracy                           0.62       254\n",
            "   macro avg       0.70      0.63      0.60       254\n",
            "weighted avg       0.68      0.62      0.59       254\n",
            " \n",
            "\n",
            "              precision    recall  f1-score   support\n",
            "\n",
            "           0       0.96      0.94      0.95        70\n",
            "           1       0.76      0.84      0.80        93\n",
            "           2       0.84      0.76      0.80        91\n",
            "\n",
            "    accuracy                           0.84       254\n",
            "   macro avg       0.85      0.85      0.85       254\n",
            "weighted avg       0.84      0.84      0.84       254\n",
            "\n"
          ]
        }
      ]
    }
  ]
}