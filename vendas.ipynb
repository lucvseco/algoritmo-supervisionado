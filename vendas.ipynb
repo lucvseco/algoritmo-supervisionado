{
  "nbformat": 4,
  "nbformat_minor": 0,
  "metadata": {
    "colab": {
      "provenance": [],
      "authorship_tag": "ABX9TyOIPlelk1y+Y0vHgsV0sgj4",
      "include_colab_link": true
    },
    "kernelspec": {
      "name": "python3",
      "display_name": "Python 3"
    },
    "language_info": {
      "name": "python"
    }
  },
  "cells": [
    {
      "cell_type": "markdown",
      "metadata": {
        "id": "view-in-github",
        "colab_type": "text"
      },
      "source": [
        "<a href=\"https://colab.research.google.com/github/lucvseco/algoritmo-supervisionado/blob/main/vendas.ipynb\" target=\"_parent\"><img src=\"https://colab.research.google.com/assets/colab-badge.svg\" alt=\"Open In Colab\"/></a>"
      ]
    },
    {
      "cell_type": "markdown",
      "source": [
        "#**CONTEXTO:**\n",
        "Iremos analisar as vendas de uma loja e tentar identificar as relações e previsões das vendas com seus produtos. Tentaremos encontrar uma reta de regressão linear que o valor das vendas."
      ],
      "metadata": {
        "id": "7qxf5E5b5pZe"
      }
    },
    {
      "cell_type": "markdown",
      "source": [
        "#**Importando bibliotecas**"
      ],
      "metadata": {
        "id": "zSUV5sS128gB"
      }
    },
    {
      "cell_type": "code",
      "source": [
        "# biblioteca para manipulação de dados\n",
        "import pandas as pd\n",
        "import numpy as np\n",
        "# bibliotecas para geração de gráficos\n",
        "import matplotlib.pyplot as plt\n",
        "import seaborn as sns\n",
        "# técnica de partição em treino e teste\n",
        "from sklearn.model_selection import train_test_split\n",
        "#Importanto técnicas de avaliação de modelos\n",
        "from sklearn.metrics import accuracy_score  #métrica acurácia\n",
        "from sklearn.metrics import confusion_matrix  #árvore de confusão\n",
        "from sklearn.metrics import classification_report #várias métricas\n",
        "from sklearn.metrics import mean_absolute_error  #métrica erro médio absoluto\n",
        "# Importando as técnicas de aprendizagem (técnicas de regressão)\n",
        "from sklearn.linear_model import LinearRegression  #Regressão Linear\n",
        "from sklearn.svm import SVR  #técnica SVR (resolve problemas lineares e não lineares)"
      ],
      "metadata": {
        "id": "U7ayyYHY3CMj"
      },
      "execution_count": null,
      "outputs": []
    },
    {
      "cell_type": "markdown",
      "source": [
        "#**Importando dados**"
      ],
      "metadata": {
        "id": "6FF-z-jp3ewv"
      }
    },
    {
      "cell_type": "code",
      "source": [
        "base_regressao = pd.read_csv(\"/content/anuncio.csv\", sep=',')\n",
        "base_regressao.head()"
      ],
      "metadata": {
        "colab": {
          "base_uri": "https://localhost:8080/",
          "height": 206
        },
        "id": "z0OGBWTC3_cR",
        "outputId": "3fd49e89-83ef-4e50-c34d-fbd0cd62e516"
      },
      "execution_count": null,
      "outputs": [
        {
          "output_type": "execute_result",
          "data": {
            "text/plain": [
              "   Id     TV  radio  jornal  vendas\n",
              "0   1  230.1   37.8    69.2    22.1\n",
              "1   2   44.5   39.3    45.1    10.4\n",
              "2   3   17.2   45.9    69.3     9.3\n",
              "3   4  151.5   41.3    58.5    18.5\n",
              "4   5  180.8   10.8    58.4    12.9"
            ],
            "text/html": [
              "\n",
              "  <div id=\"df-676ed2c2-033b-4ff3-960e-05779b072bd8\" class=\"colab-df-container\">\n",
              "    <div>\n",
              "<style scoped>\n",
              "    .dataframe tbody tr th:only-of-type {\n",
              "        vertical-align: middle;\n",
              "    }\n",
              "\n",
              "    .dataframe tbody tr th {\n",
              "        vertical-align: top;\n",
              "    }\n",
              "\n",
              "    .dataframe thead th {\n",
              "        text-align: right;\n",
              "    }\n",
              "</style>\n",
              "<table border=\"1\" class=\"dataframe\">\n",
              "  <thead>\n",
              "    <tr style=\"text-align: right;\">\n",
              "      <th></th>\n",
              "      <th>Id</th>\n",
              "      <th>TV</th>\n",
              "      <th>radio</th>\n",
              "      <th>jornal</th>\n",
              "      <th>vendas</th>\n",
              "    </tr>\n",
              "  </thead>\n",
              "  <tbody>\n",
              "    <tr>\n",
              "      <th>0</th>\n",
              "      <td>1</td>\n",
              "      <td>230.1</td>\n",
              "      <td>37.8</td>\n",
              "      <td>69.2</td>\n",
              "      <td>22.1</td>\n",
              "    </tr>\n",
              "    <tr>\n",
              "      <th>1</th>\n",
              "      <td>2</td>\n",
              "      <td>44.5</td>\n",
              "      <td>39.3</td>\n",
              "      <td>45.1</td>\n",
              "      <td>10.4</td>\n",
              "    </tr>\n",
              "    <tr>\n",
              "      <th>2</th>\n",
              "      <td>3</td>\n",
              "      <td>17.2</td>\n",
              "      <td>45.9</td>\n",
              "      <td>69.3</td>\n",
              "      <td>9.3</td>\n",
              "    </tr>\n",
              "    <tr>\n",
              "      <th>3</th>\n",
              "      <td>4</td>\n",
              "      <td>151.5</td>\n",
              "      <td>41.3</td>\n",
              "      <td>58.5</td>\n",
              "      <td>18.5</td>\n",
              "    </tr>\n",
              "    <tr>\n",
              "      <th>4</th>\n",
              "      <td>5</td>\n",
              "      <td>180.8</td>\n",
              "      <td>10.8</td>\n",
              "      <td>58.4</td>\n",
              "      <td>12.9</td>\n",
              "    </tr>\n",
              "  </tbody>\n",
              "</table>\n",
              "</div>\n",
              "    <div class=\"colab-df-buttons\">\n",
              "\n",
              "  <div class=\"colab-df-container\">\n",
              "    <button class=\"colab-df-convert\" onclick=\"convertToInteractive('df-676ed2c2-033b-4ff3-960e-05779b072bd8')\"\n",
              "            title=\"Convert this dataframe to an interactive table.\"\n",
              "            style=\"display:none;\">\n",
              "\n",
              "  <svg xmlns=\"http://www.w3.org/2000/svg\" height=\"24px\" viewBox=\"0 -960 960 960\">\n",
              "    <path d=\"M120-120v-720h720v720H120Zm60-500h600v-160H180v160Zm220 220h160v-160H400v160Zm0 220h160v-160H400v160ZM180-400h160v-160H180v160Zm440 0h160v-160H620v160ZM180-180h160v-160H180v160Zm440 0h160v-160H620v160Z\"/>\n",
              "  </svg>\n",
              "    </button>\n",
              "\n",
              "  <style>\n",
              "    .colab-df-container {\n",
              "      display:flex;\n",
              "      gap: 12px;\n",
              "    }\n",
              "\n",
              "    .colab-df-convert {\n",
              "      background-color: #E8F0FE;\n",
              "      border: none;\n",
              "      border-radius: 50%;\n",
              "      cursor: pointer;\n",
              "      display: none;\n",
              "      fill: #1967D2;\n",
              "      height: 32px;\n",
              "      padding: 0 0 0 0;\n",
              "      width: 32px;\n",
              "    }\n",
              "\n",
              "    .colab-df-convert:hover {\n",
              "      background-color: #E2EBFA;\n",
              "      box-shadow: 0px 1px 2px rgba(60, 64, 67, 0.3), 0px 1px 3px 1px rgba(60, 64, 67, 0.15);\n",
              "      fill: #174EA6;\n",
              "    }\n",
              "\n",
              "    .colab-df-buttons div {\n",
              "      margin-bottom: 4px;\n",
              "    }\n",
              "\n",
              "    [theme=dark] .colab-df-convert {\n",
              "      background-color: #3B4455;\n",
              "      fill: #D2E3FC;\n",
              "    }\n",
              "\n",
              "    [theme=dark] .colab-df-convert:hover {\n",
              "      background-color: #434B5C;\n",
              "      box-shadow: 0px 1px 3px 1px rgba(0, 0, 0, 0.15);\n",
              "      filter: drop-shadow(0px 1px 2px rgba(0, 0, 0, 0.3));\n",
              "      fill: #FFFFFF;\n",
              "    }\n",
              "  </style>\n",
              "\n",
              "    <script>\n",
              "      const buttonEl =\n",
              "        document.querySelector('#df-676ed2c2-033b-4ff3-960e-05779b072bd8 button.colab-df-convert');\n",
              "      buttonEl.style.display =\n",
              "        google.colab.kernel.accessAllowed ? 'block' : 'none';\n",
              "\n",
              "      async function convertToInteractive(key) {\n",
              "        const element = document.querySelector('#df-676ed2c2-033b-4ff3-960e-05779b072bd8');\n",
              "        const dataTable =\n",
              "          await google.colab.kernel.invokeFunction('convertToInteractive',\n",
              "                                                    [key], {});\n",
              "        if (!dataTable) return;\n",
              "\n",
              "        const docLinkHtml = 'Like what you see? Visit the ' +\n",
              "          '<a target=\"_blank\" href=https://colab.research.google.com/notebooks/data_table.ipynb>data table notebook</a>'\n",
              "          + ' to learn more about interactive tables.';\n",
              "        element.innerHTML = '';\n",
              "        dataTable['output_type'] = 'display_data';\n",
              "        await google.colab.output.renderOutput(dataTable, element);\n",
              "        const docLink = document.createElement('div');\n",
              "        docLink.innerHTML = docLinkHtml;\n",
              "        element.appendChild(docLink);\n",
              "      }\n",
              "    </script>\n",
              "  </div>\n",
              "\n",
              "\n",
              "<div id=\"df-3518a983-3a3e-445d-b241-d0e9b933e484\">\n",
              "  <button class=\"colab-df-quickchart\" onclick=\"quickchart('df-3518a983-3a3e-445d-b241-d0e9b933e484')\"\n",
              "            title=\"Suggest charts.\"\n",
              "            style=\"display:none;\">\n",
              "\n",
              "<svg xmlns=\"http://www.w3.org/2000/svg\" height=\"24px\"viewBox=\"0 0 24 24\"\n",
              "     width=\"24px\">\n",
              "    <g>\n",
              "        <path d=\"M19 3H5c-1.1 0-2 .9-2 2v14c0 1.1.9 2 2 2h14c1.1 0 2-.9 2-2V5c0-1.1-.9-2-2-2zM9 17H7v-7h2v7zm4 0h-2V7h2v10zm4 0h-2v-4h2v4z\"/>\n",
              "    </g>\n",
              "</svg>\n",
              "  </button>\n",
              "\n",
              "<style>\n",
              "  .colab-df-quickchart {\n",
              "    background-color: #E8F0FE;\n",
              "    border: none;\n",
              "    border-radius: 50%;\n",
              "    cursor: pointer;\n",
              "    display: none;\n",
              "    fill: #1967D2;\n",
              "    height: 32px;\n",
              "    padding: 0 0 0 0;\n",
              "    width: 32px;\n",
              "  }\n",
              "\n",
              "  .colab-df-quickchart:hover {\n",
              "    background-color: #E2EBFA;\n",
              "    box-shadow: 0px 1px 2px rgba(60, 64, 67, 0.3), 0px 1px 3px 1px rgba(60, 64, 67, 0.15);\n",
              "    fill: #174EA6;\n",
              "  }\n",
              "\n",
              "  [theme=dark] .colab-df-quickchart {\n",
              "    background-color: #3B4455;\n",
              "    fill: #D2E3FC;\n",
              "  }\n",
              "\n",
              "  [theme=dark] .colab-df-quickchart:hover {\n",
              "    background-color: #434B5C;\n",
              "    box-shadow: 0px 1px 3px 1px rgba(0, 0, 0, 0.15);\n",
              "    filter: drop-shadow(0px 1px 2px rgba(0, 0, 0, 0.3));\n",
              "    fill: #FFFFFF;\n",
              "  }\n",
              "</style>\n",
              "\n",
              "  <script>\n",
              "    async function quickchart(key) {\n",
              "      const charts = await google.colab.kernel.invokeFunction(\n",
              "          'suggestCharts', [key], {});\n",
              "    }\n",
              "    (() => {\n",
              "      let quickchartButtonEl =\n",
              "        document.querySelector('#df-3518a983-3a3e-445d-b241-d0e9b933e484 button');\n",
              "      quickchartButtonEl.style.display =\n",
              "        google.colab.kernel.accessAllowed ? 'block' : 'none';\n",
              "    })();\n",
              "  </script>\n",
              "</div>\n",
              "    </div>\n",
              "  </div>\n"
            ]
          },
          "metadata": {},
          "execution_count": 3
        }
      ]
    },
    {
      "cell_type": "markdown",
      "source": [
        "**Descrição dos Dados**\n",
        "\n",
        "-TV: Investimento em marketing na TV R$.\n",
        "\n",
        "-Radio: Investimento em marketing em rádios R$.\n",
        "\n",
        "-Jornal: Investimento em marketing nos jornais R$.\n",
        "\n",
        "-Vendas: Retorno - vendas em R$."
      ],
      "metadata": {
        "id": "U_WlYllS4Esh"
      }
    },
    {
      "cell_type": "markdown",
      "source": [
        "### **Correlação Linear**"
      ],
      "metadata": {
        "id": "X8wuzZi-4I0x"
      }
    },
    {
      "cell_type": "code",
      "source": [
        "#Gerando correlação Spearman\n",
        "\n",
        "corr = base_regressao.corr(method='spearman')\n",
        "features = corr.index\n",
        "plt.figure(figsize=(6,4))\n",
        "ax = sns.heatmap(base_regressao[features].corr(method='spearman'),annot=True)"
      ],
      "metadata": {
        "colab": {
          "base_uri": "https://localhost:8080/",
          "height": 374
        },
        "id": "3RbBVvDb4Mah",
        "outputId": "f7bb2969-56cd-47e2-b018-2d64fea8fc2d"
      },
      "execution_count": null,
      "outputs": [
        {
          "output_type": "display_data",
          "data": {
            "text/plain": [
              "<Figure size 600x400 with 2 Axes>"
            ],
            "image/png": "[encoded data removed]"
          },
          "metadata": {}
        }
      ]
    },
    {
      "cell_type": "markdown",
      "source": [
        "### **Visualizando a distribuição da variável resposta**"
      ],
      "metadata": {
        "id": "u8nBXAfe4VsW"
      }
    },
    {
      "cell_type": "code",
      "source": [
        "sns.histplot(data=base_regressao, x=\"vendas\", kde=True)\n",
        "plt.show()"
      ],
      "metadata": {
        "colab": {
          "base_uri": "https://localhost:8080/",
          "height": 449
        },
        "id": "LlVIniWb4a_x",
        "outputId": "c2538c88-6e38-4acf-8a8a-aa7fd5aa316b"
      },
      "execution_count": null,
      "outputs": [
        {
          "output_type": "display_data",
          "data": {
            "text/plain": [
              "<Figure size 640x480 with 1 Axes>"
            ],
            "image/png": "[encoded data removed]"
          },
          "metadata": {}
        }
      ]
    },
    {
      "cell_type": "code",
      "source": [
        "# principais estatísticas para a variável resposta vendas\n",
        "base_regressao['vendas'].describe()"
      ],
      "metadata": {
        "colab": {
          "base_uri": "https://localhost:8080/"
        },
        "id": "KpBIz9AX4bKj",
        "outputId": "7e6cff2e-71af-4307-9cad-232ef0595c89"
      },
      "execution_count": null,
      "outputs": [
        {
          "output_type": "execute_result",
          "data": {
            "text/plain": [
              "count    200.000000\n",
              "mean      14.022500\n",
              "std        5.217457\n",
              "min        1.600000\n",
              "25%       10.375000\n",
              "50%       12.900000\n",
              "75%       17.400000\n",
              "max       27.000000\n",
              "Name: vendas, dtype: float64"
            ]
          },
          "metadata": {},
          "execution_count": 6
        }
      ]
    },
    {
      "cell_type": "code",
      "source": [
        "Y = base_regressao['vendas']\n",
        "X = base_regressao.drop(['Id','jornal','vendas'], axis=1)\n",
        "\n",
        "X.head()"
      ],
      "metadata": {
        "colab": {
          "base_uri": "https://localhost:8080/",
          "height": 206
        },
        "id": "Yb-129UY4ucY",
        "outputId": "11c262c7-c0cd-4166-d5ef-172e556fff5c"
      },
      "execution_count": null,
      "outputs": [
        {
          "output_type": "execute_result",
          "data": {
            "text/plain": [
              "      TV  radio\n",
              "0  230.1   37.8\n",
              "1   44.5   39.3\n",
              "2   17.2   45.9\n",
              "3  151.5   41.3\n",
              "4  180.8   10.8"
            ],
            "text/html": [
              "\n",
              "  <div id=\"df-9c3389d3-d584-453c-aa74-ef5043f2e1ce\" class=\"colab-df-container\">\n",
              "    <div>\n",
              "<style scoped>\n",
              "    .dataframe tbody tr th:only-of-type {\n",
              "        vertical-align: middle;\n",
              "    }\n",
              "\n",
              "    .dataframe tbody tr th {\n",
              "        vertical-align: top;\n",
              "    }\n",
              "\n",
              "    .dataframe thead th {\n",
              "        text-align: right;\n",
              "    }\n",
              "</style>\n",
              "<table border=\"1\" class=\"dataframe\">\n",
              "  <thead>\n",
              "    <tr style=\"text-align: right;\">\n",
              "      <th></th>\n",
              "      <th>TV</th>\n",
              "      <th>radio</th>\n",
              "    </tr>\n",
              "  </thead>\n",
              "  <tbody>\n",
              "    <tr>\n",
              "      <th>0</th>\n",
              "      <td>230.1</td>\n",
              "      <td>37.8</td>\n",
              "    </tr>\n",
              "    <tr>\n",
              "      <th>1</th>\n",
              "      <td>44.5</td>\n",
              "      <td>39.3</td>\n",
              "    </tr>\n",
              "    <tr>\n",
              "      <th>2</th>\n",
              "      <td>17.2</td>\n",
              "      <td>45.9</td>\n",
              "    </tr>\n",
              "    <tr>\n",
              "      <th>3</th>\n",
              "      <td>151.5</td>\n",
              "      <td>41.3</td>\n",
              "    </tr>\n",
              "    <tr>\n",
              "      <th>4</th>\n",
              "      <td>180.8</td>\n",
              "      <td>10.8</td>\n",
              "    </tr>\n",
              "  </tbody>\n",
              "</table>\n",
              "</div>\n",
              "    <div class=\"colab-df-buttons\">\n",
              "\n",
              "  <div class=\"colab-df-container\">\n",
              "    <button class=\"colab-df-convert\" onclick=\"convertToInteractive('df-9c3389d3-d584-453c-aa74-ef5043f2e1ce')\"\n",
              "            title=\"Convert this dataframe to an interactive table.\"\n",
              "            style=\"display:none;\">\n",
              "\n",
              "  <svg xmlns=\"http://www.w3.org/2000/svg\" height=\"24px\" viewBox=\"0 -960 960 960\">\n",
              "    <path d=\"M120-120v-720h720v720H120Zm60-500h600v-160H180v160Zm220 220h160v-160H400v160Zm0 220h160v-160H400v160ZM180-400h160v-160H180v160Zm440 0h160v-160H620v160ZM180-180h160v-160H180v160Zm440 0h160v-160H620v160Z\"/>\n",
              "  </svg>\n",
              "    </button>\n",
              "\n",
              "  <style>\n",
              "    .colab-df-container {\n",
              "      display:flex;\n",
              "      gap: 12px;\n",
              "    }\n",
              "\n",
              "    .colab-df-convert {\n",
              "      background-color: #E8F0FE;\n",
              "      border: none;\n",
              "      border-radius: 50%;\n",
              "      cursor: pointer;\n",
              "      display: none;\n",
              "      fill: #1967D2;\n",
              "      height: 32px;\n",
              "      padding: 0 0 0 0;\n",
              "      width: 32px;\n",
              "    }\n",
              "\n",
              "    .colab-df-convert:hover {\n",
              "      background-color: #E2EBFA;\n",
              "      box-shadow: 0px 1px 2px rgba(60, 64, 67, 0.3), 0px 1px 3px 1px rgba(60, 64, 67, 0.15);\n",
              "      fill: #174EA6;\n",
              "    }\n",
              "\n",
              "    .colab-df-buttons div {\n",
              "      margin-bottom: 4px;\n",
              "    }\n",
              "\n",
              "    [theme=dark] .colab-df-convert {\n",
              "      background-color: #3B4455;\n",
              "      fill: #D2E3FC;\n",
              "    }\n",
              "\n",
              "    [theme=dark] .colab-df-convert:hover {\n",
              "      background-color: #434B5C;\n",
              "      box-shadow: 0px 1px 3px 1px rgba(0, 0, 0, 0.15);\n",
              "      filter: drop-shadow(0px 1px 2px rgba(0, 0, 0, 0.3));\n",
              "      fill: #FFFFFF;\n",
              "    }\n",
              "  </style>\n",
              "\n",
              "    <script>\n",
              "      const buttonEl =\n",
              "        document.querySelector('#df-9c3389d3-d584-453c-aa74-ef5043f2e1ce button.colab-df-convert');\n",
              "      buttonEl.style.display =\n",
              "        google.colab.kernel.accessAllowed ? 'block' : 'none';\n",
              "\n",
              "      async function convertToInteractive(key) {\n",
              "        const element = document.querySelector('#df-9c3389d3-d584-453c-aa74-ef5043f2e1ce');\n",
              "        const dataTable =\n",
              "          await google.colab.kernel.invokeFunction('convertToInteractive',\n",
              "                                                    [key], {});\n",
              "        if (!dataTable) return;\n",
              "\n",
              "        const docLinkHtml = 'Like what you see? Visit the ' +\n",
              "          '<a target=\"_blank\" href=https://colab.research.google.com/notebooks/data_table.ipynb>data table notebook</a>'\n",
              "          + ' to learn more about interactive tables.';\n",
              "        element.innerHTML = '';\n",
              "        dataTable['output_type'] = 'display_data';\n",
              "        await google.colab.output.renderOutput(dataTable, element);\n",
              "        const docLink = document.createElement('div');\n",
              "        docLink.innerHTML = docLinkHtml;\n",
              "        element.appendChild(docLink);\n",
              "      }\n",
              "    </script>\n",
              "  </div>\n",
              "\n",
              "\n",
              "<div id=\"df-30b995a3-d41a-420d-b027-b2c7fdabef38\">\n",
              "  <button class=\"colab-df-quickchart\" onclick=\"quickchart('df-30b995a3-d41a-420d-b027-b2c7fdabef38')\"\n",
              "            title=\"Suggest charts.\"\n",
              "            style=\"display:none;\">\n",
              "\n",
              "<svg xmlns=\"http://www.w3.org/2000/svg\" height=\"24px\"viewBox=\"0 0 24 24\"\n",
              "     width=\"24px\">\n",
              "    <g>\n",
              "        <path d=\"M19 3H5c-1.1 0-2 .9-2 2v14c0 1.1.9 2 2 2h14c1.1 0 2-.9 2-2V5c0-1.1-.9-2-2-2zM9 17H7v-7h2v7zm4 0h-2V7h2v10zm4 0h-2v-4h2v4z\"/>\n",
              "    </g>\n",
              "</svg>\n",
              "  </button>\n",
              "\n",
              "<style>\n",
              "  .colab-df-quickchart {\n",
              "    background-color: #E8F0FE;\n",
              "    border: none;\n",
              "    border-radius: 50%;\n",
              "    cursor: pointer;\n",
              "    display: none;\n",
              "    fill: #1967D2;\n",
              "    height: 32px;\n",
              "    padding: 0 0 0 0;\n",
              "    width: 32px;\n",
              "  }\n",
              "\n",
              "  .colab-df-quickchart:hover {\n",
              "    background-color: #E2EBFA;\n",
              "    box-shadow: 0px 1px 2px rgba(60, 64, 67, 0.3), 0px 1px 3px 1px rgba(60, 64, 67, 0.15);\n",
              "    fill: #174EA6;\n",
              "  }\n",
              "\n",
              "  [theme=dark] .colab-df-quickchart {\n",
              "    background-color: #3B4455;\n",
              "    fill: #D2E3FC;\n",
              "  }\n",
              "\n",
              "  [theme=dark] .colab-df-quickchart:hover {\n",
              "    background-color: #434B5C;\n",
              "    box-shadow: 0px 1px 3px 1px rgba(0, 0, 0, 0.15);\n",
              "    filter: drop-shadow(0px 1px 2px rgba(0, 0, 0, 0.3));\n",
              "    fill: #FFFFFF;\n",
              "  }\n",
              "</style>\n",
              "\n",
              "  <script>\n",
              "    async function quickchart(key) {\n",
              "      const charts = await google.colab.kernel.invokeFunction(\n",
              "          'suggestCharts', [key], {});\n",
              "    }\n",
              "    (() => {\n",
              "      let quickchartButtonEl =\n",
              "        document.querySelector('#df-30b995a3-d41a-420d-b027-b2c7fdabef38 button');\n",
              "      quickchartButtonEl.style.display =\n",
              "        google.colab.kernel.accessAllowed ? 'block' : 'none';\n",
              "    })();\n",
              "  </script>\n",
              "</div>\n",
              "    </div>\n",
              "  </div>\n"
            ]
          },
          "metadata": {},
          "execution_count": 7
        }
      ]
    },
    {
      "cell_type": "markdown",
      "source": [
        "#**Avaliando modelos**"
      ],
      "metadata": {
        "id": "xTbknW3H4yl3"
      }
    },
    {
      "cell_type": "code",
      "source": [
        "#Estas listas guardam os resultados ao final de cada iteração\n",
        "resultados_modelo1 = []\n",
        "resultados_modelo2 = []\n",
        "\n",
        "# definindo uma semente global\n",
        "np.random.seed(14)\n",
        "\n",
        "# início do processo iterativo\n",
        "for i in range(100):\n",
        "\n",
        "  # Separação aleatória em conjuntos de treino e teste\n",
        "  X_treino, X_teste, Y_treino, Y_teste = train_test_split(X, Y, train_size=0.75)\n",
        "\n",
        "  ###### Treinamento de modelos #####\n",
        "  # Modelo 1 =  Regressão Linear\n",
        "  model1 = LinearRegression()\n",
        "  model1.fit(X, Y)\n",
        "\n",
        "  # Modelo 2 =  SVR com kernel Não Linear\n",
        "  model2 = SVR()\n",
        "  model2.fit(X, Y)\n",
        "\n",
        "  ##### Avaliação de Modelos ######\n",
        "  # Estimativas na base de teste (dados não vistos/futuros)/guardando resultados nas listas\n",
        "  predictions1 = model1.predict(X_teste)\n",
        "  resultados_modelo1.append(mean_absolute_error(Y_teste, predictions1))\n",
        "\n",
        "  predictions2 = model2.predict(X_teste)\n",
        "  resultados_modelo2.append(mean_absolute_error(Y_teste, predictions2))"
      ],
      "metadata": {
        "id": "0P_ltoDQ44aA"
      },
      "execution_count": null,
      "outputs": []
    },
    {
      "cell_type": "markdown",
      "source": [
        "### **Equação da reta: Modelo de Regressão Linear**"
      ],
      "metadata": {
        "id": "OkVtnlFr5Ab-"
      }
    },
    {
      "cell_type": "code",
      "source": [
        "# Execute esse código para encontrar os coeficientes da regressão linear\n",
        "print(model1.intercept_)\n",
        "print(model1.coef_)"
      ],
      "metadata": {
        "colab": {
          "base_uri": "https://localhost:8080/"
        },
        "id": "xuEr_Gyv5A0t",
        "outputId": "71cd5836-5b32-4bb4-e0fa-8f78313fee00"
      },
      "execution_count": null,
      "outputs": [
        {
          "output_type": "stream",
          "name": "stdout",
          "text": [
            "2.9210999124051362\n",
            "[0.04575482 0.18799423]\n"
          ]
        }
      ]
    },
    {
      "cell_type": "markdown",
      "source": [
        "Portanto, a equação da reta do modelo de regressão linear que explica o valor de vendas  é:\n",
        "\n",
        "**Vendas = 2.92 + 0.045 * (variavel X1) + 0.18 * (variavel X2)**"
      ],
      "metadata": {
        "id": "J8Um4CtG5BXy"
      }
    },
    {
      "cell_type": "markdown",
      "source": [
        "### **Avaliando Modelos pelo Erro Médio Absoluto**"
      ],
      "metadata": {
        "id": "yILxhRZG5Cib"
      }
    },
    {
      "cell_type": "code",
      "source": [
        "print('Média modelo 1 / Média modelo 2:')\n",
        "print(round(np.mean(resultados_modelo1),2), round(np.mean(resultados_modelo2),2),'\\n')\n",
        "\n",
        "print('Desvio padrão modelo 1 / Desvio padrão modelo 2:')\n",
        "print(round(np.std(resultados_modelo1),2), round(np.std(resultados_modelo2),2))"
      ],
      "metadata": {
        "colab": {
          "base_uri": "https://localhost:8080/"
        },
        "id": "vopIraQA5DFp",
        "outputId": "4d9e370a-a185-4288-b130-14bb887f224f"
      },
      "execution_count": null,
      "outputs": [
        {
          "output_type": "stream",
          "name": "stdout",
          "text": [
            "Média modelo 1 / Média modelo 2:\n",
            "1.24 1.06 \n",
            "\n",
            "Desvio padrão modelo 1 / Desvio padrão modelo 2:\n",
            "0.15 0.12\n"
          ]
        }
      ]
    },
    {
      "cell_type": "code",
      "source": [
        "# Execute este códido para visualizar o boxplot para cada modelo.\n",
        "dados_resultados =[resultados_modelo1, resultados_modelo2]\n",
        "\n",
        "plt.boxplot(dados_resultados)\n",
        "plt.title(\"Boxplot da amostra de erro dos modelos\")\n",
        "plt.show()"
      ],
      "metadata": {
        "colab": {
          "base_uri": "https://localhost:8080/",
          "height": 452
        },
        "id": "7wDxH3z-5Dj-",
        "outputId": "02fb7e96-c1b3-40bc-ed35-3352250eaadc"
      },
      "execution_count": null,
      "outputs": [
        {
          "output_type": "display_data",
          "data": {
            "text/plain": [
              "<Figure size 640x480 with 1 Axes>"
            ],
            "image/png": "[encoded data removed]"
          },
          "metadata": {}
        }
      ]
    }
  ]
}